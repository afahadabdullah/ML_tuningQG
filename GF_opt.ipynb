{
 "cells": [
  {
   "cell_type": "code",
   "execution_count": 4,
   "id": "ace1895f-93de-47e2-8331-f9823d185ee3",
   "metadata": {},
   "outputs": [
    {
     "name": "stdout",
     "output_type": "stream",
     "text": [
      "======================================================================\n",
      "GREEN'S FUNCTION OPTIMIZATION WITH LINE SEARCH\n",
      "======================================================================\n",
      "✓ Loaded high-res data: 361 snapshots\n",
      "\n",
      "======================================================================\n",
      "STEP 1: REFERENCE SIMULATION\n",
      "======================================================================\n",
      "Loading reference...\n",
      "\n",
      "Reference Loss: 0.628715\n",
      "  Q_bt NRMSE:   0.726491\n",
      "  Psi_bt NRMSE: 0.482050\n",
      "\n",
      "======================================================================\n",
      "STEP 2: COMPUTE GRADIENTS (Central Differences)\n",
      "======================================================================\n",
      "\n",
      "[1/6] viscosity_scale\n",
      "Running Test...\n"
     ]
    },
    {
     "name": "stderr",
     "output_type": "stream",
     "text": [
      "Test: 100%|██████████| 8640/8640 [00:22<00:00, 378.22it/s]\n"
     ]
    },
    {
     "name": "stdout",
     "output_type": "stream",
     "text": [
      "  (+) Loss: 0.628715\n",
      "Running Test...\n"
     ]
    },
    {
     "name": "stderr",
     "output_type": "stream",
     "text": [
      "Test: 100%|██████████| 8640/8640 [00:22<00:00, 380.90it/s]\n"
     ]
    },
    {
     "name": "stdout",
     "output_type": "stream",
     "text": [
      "  (-) Loss: 0.628715\n",
      "  Gradient: -6.661338e-14\n",
      "\n",
      "[2/6] drag_scale\n",
      "Running Test...\n"
     ]
    },
    {
     "name": "stderr",
     "output_type": "stream",
     "text": [
      "Test: 100%|██████████| 8640/8640 [00:22<00:00, 380.81it/s]\n"
     ]
    },
    {
     "name": "stdout",
     "output_type": "stream",
     "text": [
      "  (+) Loss: 0.623269\n",
      "Running Test...\n"
     ]
    },
    {
     "name": "stderr",
     "output_type": "stream",
     "text": [
      "Test: 100%|██████████| 8640/8640 [00:24<00:00, 351.82it/s]\n"
     ]
    },
    {
     "name": "stdout",
     "output_type": "stream",
     "text": [
      "  (-) Loss: 0.620001\n",
      "  Gradient: +3.267802e-02\n",
      "\n",
      "[3/6] eddy_diffusivity\n",
      "Running Test...\n"
     ]
    },
    {
     "name": "stderr",
     "output_type": "stream",
     "text": [
      "Test: 100%|██████████| 8640/8640 [00:24<00:00, 352.21it/s]\n"
     ]
    },
    {
     "name": "stdout",
     "output_type": "stream",
     "text": [
      "  (+) Loss: 0.628715\n",
      "Running Test...\n"
     ]
    },
    {
     "name": "stderr",
     "output_type": "stream",
     "text": [
      "Test: 100%|██████████| 8640/8640 [00:23<00:00, 368.27it/s]\n"
     ]
    },
    {
     "name": "stdout",
     "output_type": "stream",
     "text": [
      "  (-) Loss: 0.628715\n",
      "  Gradient: -1.432188e-11\n",
      "\n",
      "[4/6] smagorinsky_coeff\n",
      "Running Test...\n"
     ]
    },
    {
     "name": "stderr",
     "output_type": "stream",
     "text": [
      "Test: 100%|██████████| 8640/8640 [00:23<00:00, 371.87it/s]\n"
     ]
    },
    {
     "name": "stdout",
     "output_type": "stream",
     "text": [
      "  (+) Loss: 0.628715\n",
      "Running Test...\n"
     ]
    },
    {
     "name": "stderr",
     "output_type": "stream",
     "text": [
      "Test: 100%|██████████| 8640/8640 [00:23<00:00, 369.77it/s]\n"
     ]
    },
    {
     "name": "stdout",
     "output_type": "stream",
     "text": [
      "  (-) Loss: 0.628715\n",
      "  Gradient: +0.000000e+00\n",
      "\n",
      "[5/6] energy_correction\n",
      "Running Test...\n"
     ]
    },
    {
     "name": "stderr",
     "output_type": "stream",
     "text": [
      "Test: 100%|██████████| 8640/8640 [00:22<00:00, 382.05it/s]\n"
     ]
    },
    {
     "name": "stdout",
     "output_type": "stream",
     "text": [
      "  (+) Loss: 0.645118\n",
      "Running Test...\n"
     ]
    },
    {
     "name": "stderr",
     "output_type": "stream",
     "text": [
      "Test: 100%|██████████| 8640/8640 [00:23<00:00, 372.72it/s]\n"
     ]
    },
    {
     "name": "stdout",
     "output_type": "stream",
     "text": [
      "  (-) Loss: 0.615172\n",
      "  Gradient: -7.486421e+01\n",
      "\n",
      "[6/6] enstrophy_correction\n",
      "Running Test...\n"
     ]
    },
    {
     "name": "stderr",
     "output_type": "stream",
     "text": [
      "Test: 100%|██████████| 8640/8640 [00:23<00:00, 370.50it/s]\n"
     ]
    },
    {
     "name": "stdout",
     "output_type": "stream",
     "text": [
      "  (+) Loss: 0.627638\n",
      "Running Test...\n"
     ]
    },
    {
     "name": "stderr",
     "output_type": "stream",
     "text": [
      "Test: 100%|██████████| 8640/8640 [00:23<00:00, 374.16it/s]\n"
     ]
    },
    {
     "name": "stdout",
     "output_type": "stream",
     "text": [
      "  (-) Loss: 0.629387\n",
      "  Gradient: -2.915026e+06\n",
      "\n",
      "======================================================================\n",
      "STEP 3: LINE SEARCH OPTIMIZATION\n",
      "======================================================================\n",
      "\n",
      "Search direction (normalized): [ 2.28517295e-20 -1.12102004e-08  4.91312184e-18 -0.00000000e+00\n",
      "  2.56821768e-05  1.00000000e+00]\n",
      "\n",
      "Trying 6 step sizes along gradient direction...\n",
      "\n",
      "Step size: 0.010\n",
      "  Parameters: {'viscosity_scale': 0.5, 'drag_scale': 0.499999999943949, 'eddy_diffusivity': 0.005, 'smagorinsky_coeff': 0.015, 'energy_correction': -0.0019999994863564644, 'enstrophy_correction': 3.029999999990106e-09}\n",
      "Running Test...\n"
     ]
    },
    {
     "name": "stderr",
     "output_type": "stream",
     "text": [
      "Test: 100%|██████████| 8640/8640 [00:23<00:00, 367.41it/s]\n"
     ]
    },
    {
     "name": "stdout",
     "output_type": "stream",
     "text": [
      "  Loss: 0.628531\n",
      "  ✓ NEW BEST!\n",
      "\n",
      "Step size: 0.020\n",
      "  Parameters: {'viscosity_scale': 0.5, 'drag_scale': 0.499999999887898, 'eddy_diffusivity': 0.005, 'smagorinsky_coeff': 0.015, 'energy_correction': -0.0019999989727129282, 'enstrophy_correction': 3.0599999999802128e-09}\n",
      "Running Test...\n"
     ]
    },
    {
     "name": "stderr",
     "output_type": "stream",
     "text": [
      "Test: 100%|██████████| 8640/8640 [00:23<00:00, 366.79it/s]\n"
     ]
    },
    {
     "name": "stdout",
     "output_type": "stream",
     "text": [
      "  Loss: 0.628330\n",
      "  ✓ NEW BEST!\n",
      "\n",
      "Step size: 0.050\n",
      "  Parameters: {'viscosity_scale': 0.5, 'drag_scale': 0.499999999719745, 'eddy_diffusivity': 0.005, 'smagorinsky_coeff': 0.015, 'energy_correction': -0.0019999974317823207, 'enstrophy_correction': 3.1499999999505318e-09}\n",
      "Running Test...\n"
     ]
    },
    {
     "name": "stderr",
     "output_type": "stream",
     "text": [
      "Test: 100%|██████████| 8640/8640 [00:23<00:00, 368.89it/s]\n"
     ]
    },
    {
     "name": "stdout",
     "output_type": "stream",
     "text": [
      "  Loss: 0.627637\n",
      "  ✓ NEW BEST!\n",
      "\n",
      "Step size: 0.100\n",
      "  Parameters: {'viscosity_scale': 0.5, 'drag_scale': 0.49999999943949, 'eddy_diffusivity': 0.005, 'smagorinsky_coeff': 0.015, 'energy_correction': -0.001999994863564642, 'enstrophy_correction': 3.299999999901064e-09}\n",
      "Running Test...\n"
     ]
    },
    {
     "name": "stderr",
     "output_type": "stream",
     "text": [
      "Test: 100%|██████████| 8640/8640 [00:23<00:00, 370.26it/s]\n"
     ]
    },
    {
     "name": "stdout",
     "output_type": "stream",
     "text": [
      "  Loss: 0.626305\n",
      "  ✓ NEW BEST!\n",
      "\n",
      "Step size: 0.150\n",
      "  Parameters: {'viscosity_scale': 0.5, 'drag_scale': 0.499999999159235, 'eddy_diffusivity': 0.005, 'smagorinsky_coeff': 0.015, 'energy_correction': -0.0019999922953469625, 'enstrophy_correction': 3.449999999851596e-09}\n",
      "Running Test...\n"
     ]
    },
    {
     "name": "stderr",
     "output_type": "stream",
     "text": [
      "Test: 100%|██████████| 8640/8640 [00:23<00:00, 367.42it/s]\n"
     ]
    },
    {
     "name": "stdout",
     "output_type": "stream",
     "text": [
      "  Loss: 0.625138\n",
      "  ✓ NEW BEST!\n",
      "\n",
      "Step size: 0.200\n",
      "  Parameters: {'viscosity_scale': 0.5, 'drag_scale': 0.49999999887897995, 'eddy_diffusivity': 0.005, 'smagorinsky_coeff': 0.015, 'energy_correction': -0.001999989727129283, 'enstrophy_correction': 3.5999999998021276e-09}\n",
      "Running Test...\n"
     ]
    },
    {
     "name": "stderr",
     "output_type": "stream",
     "text": [
      "Test: 100%|██████████| 8640/8640 [00:23<00:00, 374.37it/s]\n"
     ]
    },
    {
     "name": "stdout",
     "output_type": "stream",
     "text": [
      "  Loss: 0.624363\n",
      "  ✓ NEW BEST!\n",
      "\n",
      "======================================================================\n",
      "LINE SEARCH RESULTS\n",
      "======================================================================\n",
      "Best step size: 0.200\n",
      "Reference Loss: 0.628715\n",
      "Optimized Loss: 0.624363\n",
      "Improvement:    +0.69%\n",
      "\n",
      "======================================================================\n",
      "STEP 4: VERIFY OPTIMIZED PARAMETERS\n",
      "======================================================================\n",
      "\n",
      "Optimized parameters:\n",
      "  viscosity_scale     : 5.000000e-01 -> 5.000000e-01 ( +0.00%)\n",
      "  drag_scale          : 5.000000e-01 -> 5.000000e-01 ( -0.00%)\n",
      "  eddy_diffusivity    : 5.000000e-03 -> 5.000000e-03 ( +0.00%)\n",
      "  smagorinsky_coeff   : 1.500000e-02 -> 1.500000e-02 ( +0.00%)\n",
      "  energy_correction   : -2.000000e-03 -> -1.999990e-03 ( +0.00%)\n",
      "  enstrophy_correction: 3.000000e-09 -> 3.600000e-09 (+20.00%)\n",
      "\n",
      "Running full verification simulation...\n",
      "Running Optimized...\n"
     ]
    },
    {
     "name": "stderr",
     "output_type": "stream",
     "text": [
      "Optimized: 100%|██████████| 8640/8640 [00:23<00:00, 369.92it/s]\n"
     ]
    },
    {
     "name": "stdout",
     "output_type": "stream",
     "text": [
      "\n",
      "======================================================================\n",
      "FINAL VERIFICATION RESULTS\n",
      "======================================================================\n",
      "\n",
      "Reference Loss:  0.628715\n",
      "Optimized Loss:  0.624363\n",
      "Improvement:     +0.69%\n",
      "\n",
      "Component Losses:\n",
      "  Q_bt NRMSE:\n",
      "    Reference: 0.726491\n",
      "    Optimized: 0.717664\n",
      "  Psi_bt NRMSE:\n",
      "    Reference: 0.482050\n",
      "    Optimized: 0.484412\n",
      "\n",
      "✓ Saved: greens_optimization_comparison.png\n",
      "✓ Saved: optimized_results.pkl\n",
      "✓ Saved: optimized_config.txt\n",
      "\n",
      "======================================================================\n",
      "OPTIMIZATION COMPLETE\n",
      "======================================================================\n"
     ]
    },
    {
     "data": {
      "image/png": "[encoded data removed]",
      "text/plain": [
       "<Figure size 1600x1000 with 6 Axes>"
      ]
     },
     "metadata": {},
     "output_type": "display_data"
    }
   ],
   "source": [
    "\"\"\"\n",
    "Green's Function Parameter Tuning for QG Two-Layer Model\n",
    "Uses finite differences + line search to find and verify optimal parameters\n",
    "EXACT SAME loss computation as ML optimization\n",
    "\"\"\"\n",
    "\n",
    "import numpy as np\n",
    "import pickle\n",
    "import os\n",
    "from qg_model import QGTwoLayerModel\n",
    "from scipy.ndimage import uniform_filter\n",
    "from tqdm import tqdm\n",
    "import matplotlib.pyplot as plt\n",
    "\n",
    "# ============================================================================\n",
    "# LOAD HIGH-RES DATA\n",
    "# ============================================================================\n",
    "\n",
    "print(\"=\"*70)\n",
    "print(\"GREEN'S FUNCTION OPTIMIZATION WITH LINE SEARCH\")\n",
    "print(\"=\"*70)\n",
    "\n",
    "if not os.path.exists('highres_results.pkl'):\n",
    "    raise FileNotFoundError(\"High-res results not found! Run main_comparison.py first.\")\n",
    "\n",
    "with open('highres_results.pkl', 'rb') as f:\n",
    "    highres_results = pickle.load(f)\n",
    "\n",
    "print(f\"✓ Loaded high-res data: {len(highres_results['times'])} snapshots\")\n",
    "\n",
    "# ============================================================================\n",
    "# CONFIGURATION\n",
    "# ============================================================================\n",
    "\n",
    "config_reference = {\n",
    "    'name': 'Reference',\n",
    "    'nx': 64,\n",
    "    'ny': 32,\n",
    "    'Lx': 2.0e6,\n",
    "    'Ly': 1.0e6,\n",
    "    'beta': 1.8e-11,\n",
    "    'f0': 1e-4,\n",
    "    'g_prime': 0.02,\n",
    "    'H1': 750.0,\n",
    "    'H2': 3250.0,\n",
    "    'r_drag': 8e-8,\n",
    "    'nu': 3e14,\n",
    "    'dt': 1800.0,\n",
    "    'subgrid_params': {\n",
    "        'viscosity_scale': 0.5,\n",
    "        'drag_scale': 0.5,\n",
    "        'eddy_diffusivity': 0.005,\n",
    "        'smagorinsky_coeff': 0.015,\n",
    "        'energy_correction': -0.002,\n",
    "        'enstrophy_correction': 3e-9,\n",
    "    }\n",
    "}\n",
    "\n",
    "param_names = ['viscosity_scale', 'drag_scale', 'eddy_diffusivity', \n",
    "               'smagorinsky_coeff', 'energy_correction', 'enstrophy_correction']\n",
    "n_params = len(param_names)\n",
    "\n",
    "# Parameter bounds for safety\n",
    "PARAM_BOUNDS = {\n",
    "    'viscosity_scale': (0.1, 3.0),\n",
    "    'drag_scale': (0.1, 3.0),\n",
    "    'eddy_diffusivity': (0.0, 0.05),\n",
    "    'smagorinsky_coeff': (0.0, 0.05),\n",
    "    'energy_correction': (-0.01, 0.01),\n",
    "    'enstrophy_correction': (0.0, 1e-7),\n",
    "}\n",
    "\n",
    "# ============================================================================\n",
    "# INITIAL CONDITIONS\n",
    "# ============================================================================\n",
    "\n",
    "def create_initial_conditions(nx, ny, Lx, Ly):\n",
    "    \"\"\"Create initial vortices\"\"\"\n",
    "    x = np.arange(nx) * (Lx / nx)\n",
    "    y = np.arange(ny) * (Ly / ny)\n",
    "    X, Y = np.meshgrid(x, y)\n",
    "    \n",
    "    vortex_params = [\n",
    "        {'x': 0.2*Lx, 'y': 0.3*Ly, 'sigma': 0.13*Lx, 'amp1': 4e-6, 'amp2': 2.5e-6},\n",
    "        {'x': 0.8*Lx, 'y': 0.7*Ly, 'sigma': 0.13*Lx, 'amp1': -4e-6, 'amp2': -2.5e-6},\n",
    "        {'x': 0.2*Lx, 'y': 0.7*Ly, 'sigma': 0.12*Lx, 'amp1': 3.5e-6, 'amp2': -2e-6},\n",
    "        {'x': 0.8*Lx, 'y': 0.3*Ly, 'sigma': 0.12*Lx, 'amp1': -3.5e-6, 'amp2': 2e-6},\n",
    "        {'x': 0.35*Lx, 'y': 0.5*Ly, 'sigma': 0.09*Lx, 'amp1': 3e-6, 'amp2': 1.5e-6},\n",
    "        {'x': 0.65*Lx, 'y': 0.5*Ly, 'sigma': 0.09*Lx, 'amp1': -3e-6, 'amp2': -1.5e-6},\n",
    "        {'x': 0.5*Lx, 'y': 0.25*Ly, 'sigma': 0.08*Lx, 'amp1': 2.5e-6, 'amp2': 0.0},\n",
    "        {'x': 0.5*Lx, 'y': 0.75*Ly, 'sigma': 0.08*Lx, 'amp1': -2.5e-6, 'amp2': 0.0},\n",
    "        {'x': 0.4*Lx, 'y': 0.35*Ly, 'sigma': 0.06*Lx, 'amp1': 2e-6, 'amp2': 1e-6},\n",
    "        {'x': 0.6*Lx, 'y': 0.65*Ly, 'sigma': 0.06*Lx, 'amp1': -2e-6, 'amp2': -1e-6},\n",
    "        {'x': 0.3*Lx, 'y': 0.6*Ly, 'sigma': 0.05*Lx, 'amp1': 1.5e-6, 'amp2': 0.8e-6},\n",
    "        {'x': 0.7*Lx, 'y': 0.4*Ly, 'sigma': 0.05*Lx, 'amp1': -1.5e-6, 'amp2': -0.8e-6},\n",
    "    ]\n",
    "    \n",
    "    q1 = np.zeros((ny, nx))\n",
    "    q2 = np.zeros((ny, nx))\n",
    "    \n",
    "    for vortex in vortex_params:\n",
    "        x0, y0, sigma = vortex['x'], vortex['y'], vortex['sigma']\n",
    "        amp1, amp2 = vortex['amp1'], vortex['amp2']\n",
    "        r2 = (X - x0)**2 + (Y - y0)**2\n",
    "        gauss = np.exp(-r2 / (2 * sigma**2))\n",
    "        q1 += amp1 * gauss\n",
    "        q2 += amp2 * gauss\n",
    "    \n",
    "    np.random.seed(42)\n",
    "    for i in range(2):\n",
    "        scale = 2**i\n",
    "        if nx // scale >= 8:\n",
    "            noise_q1 = np.random.randn(ny // scale, nx // scale)\n",
    "            noise_q2 = np.random.randn(ny // scale, nx // scale)\n",
    "            if scale > 1:\n",
    "                from scipy.ndimage import zoom\n",
    "                noise_q1 = zoom(noise_q1, scale, order=1)\n",
    "                noise_q2 = zoom(noise_q2, scale, order=1)\n",
    "            amplitude = 8e-7 / (scale + 1)\n",
    "            q1 += amplitude * noise_q1\n",
    "            q2 += amplitude * noise_q2\n",
    "    \n",
    "    return q1, q2\n",
    "\n",
    "# ============================================================================\n",
    "# LOSS COMPUTATION\n",
    "# ============================================================================\n",
    "\n",
    "def compute_loss(lowres_results, highres_results, n_days_avg=30, return_fields=False):\n",
    "    \"\"\"EXACT SAME loss as ML optimization\"\"\"\n",
    "    \n",
    "    nx_hr, ny_hr = highres_results['config']['nx'], highres_results['config']['ny']\n",
    "    nx_lr, ny_lr = lowres_results['config']['nx'], lowres_results['config']['ny']\n",
    "    \n",
    "    coarsen_factor_x = nx_hr // nx_lr\n",
    "    coarsen_factor_y = ny_hr // ny_lr\n",
    "    \n",
    "    times_hr = highres_results['times']\n",
    "    times_lr = lowres_results['times']\n",
    "    \n",
    "    indices_hr = np.where(times_hr >= times_hr[-1] - n_days_avg)[0]\n",
    "    indices_lr = np.where(times_lr >= times_lr[-1] - n_days_avg)[0]\n",
    "    \n",
    "    q1_hr_avg = np.mean([highres_results['q1_history'][i] for i in indices_hr], axis=0)\n",
    "    q2_hr_avg = np.mean([highres_results['q2_history'][i] for i in indices_hr], axis=0)\n",
    "    q1_lr_avg = np.mean([lowres_results['q1_history'][i] for i in indices_lr], axis=0)\n",
    "    q2_lr_avg = np.mean([lowres_results['q2_history'][i] for i in indices_lr], axis=0)\n",
    "    \n",
    "    model_hr = highres_results['model']\n",
    "    model_lr = lowres_results['model']\n",
    "    \n",
    "    psi1_hr_avg, psi2_hr_avg = model_hr.q_to_psi(q1_hr_avg, q2_hr_avg)\n",
    "    psi1_lr_avg, psi2_lr_avg = model_lr.q_to_psi(q1_lr_avg, q2_lr_avg)\n",
    "    \n",
    "    H1, H2 = model_hr.H1, model_hr.H2\n",
    "    H_total = H1 + H2\n",
    "    \n",
    "    q_bt_hr = (H1 * q1_hr_avg + H2 * q2_hr_avg) / H_total\n",
    "    psi_bt_hr = (H1 * psi1_hr_avg + H2 * psi2_hr_avg) / H_total\n",
    "    q_bt_lr = (H1 * q1_lr_avg + H2 * q2_lr_avg) / H_total\n",
    "    psi_bt_lr = (H1 * psi1_lr_avg + H2 * psi2_lr_avg) / H_total\n",
    "    \n",
    "    def coarsen(field, factor_x, factor_y):\n",
    "        filtered = uniform_filter(field, size=(factor_y, factor_x), mode='wrap')\n",
    "        return filtered[::factor_y, ::factor_x]\n",
    "    \n",
    "    q_bt_hr_coarse = coarsen(q_bt_hr, coarsen_factor_x, coarsen_factor_y)\n",
    "    psi_bt_hr_coarse = coarsen(psi_bt_hr, coarsen_factor_x, coarsen_factor_y)\n",
    "    \n",
    "    def nrmse(pred, target):\n",
    "        mse = np.mean((pred - target)**2)\n",
    "        std = np.std(target)\n",
    "        return np.sqrt(mse) / (std + 1e-20)\n",
    "    \n",
    "    loss_q_bt = nrmse(q_bt_lr, q_bt_hr_coarse)\n",
    "    loss_psi_bt = nrmse(psi_bt_lr, psi_bt_hr_coarse)\n",
    "    \n",
    "    weight_pv = 0.6\n",
    "    weight_psi = 0.4\n",
    "    total_loss = weight_pv * loss_q_bt + weight_psi * loss_psi_bt\n",
    "    \n",
    "    if return_fields:\n",
    "        return total_loss, {\n",
    "            'q_bt_hr_coarse': q_bt_hr_coarse, 'psi_bt_hr_coarse': psi_bt_hr_coarse,\n",
    "            'q_bt_lr': q_bt_lr, 'psi_bt_lr': psi_bt_lr,\n",
    "            'loss_q_bt': loss_q_bt, 'loss_psi_bt': loss_psi_bt,\n",
    "            'total_loss': total_loss, 'weight_pv': weight_pv, 'weight_psi': weight_psi,\n",
    "        }\n",
    "    return total_loss\n",
    "\n",
    "# ============================================================================\n",
    "# RUN SIMULATION\n",
    "# ============================================================================\n",
    "\n",
    "def run_simulation(config, sim_days=180, save_interval_hours=12, verbose=False):\n",
    "    \"\"\"Run simulation\"\"\"\n",
    "    if verbose:\n",
    "        print(f\"Running {config['name']}...\")\n",
    "    \n",
    "    model = QGTwoLayerModel(config)\n",
    "    q1, q2 = create_initial_conditions(config['nx'], config['ny'], config['Lx'], config['Ly'])\n",
    "    \n",
    "    steps_per_day = int(86400 / config['dt'])\n",
    "    total_steps = sim_days * steps_per_day\n",
    "    save_every = int(save_interval_hours * 3600 / config['dt'])\n",
    "    \n",
    "    q1_history, q2_history, times = [q1.copy()], [q2.copy()], [0.0]\n",
    "    dq1_hist, dq2_hist = [], []\n",
    "    \n",
    "    iterator = tqdm(range(1, total_steps + 1), desc=config['name']) if verbose else range(1, total_steps + 1)\n",
    "    \n",
    "    for step in iterator:\n",
    "        q1, q2 = model.step_ab3(q1, q2, dq1_hist, dq2_hist)\n",
    "        if not (np.isfinite(q1).all() and np.isfinite(q2).all()):\n",
    "            if verbose:\n",
    "                print(f\"\\n*** Unstable at step {step} ***\")\n",
    "            return None\n",
    "        if step % save_every == 0:\n",
    "            times.append(step * config['dt'] / 86400)\n",
    "            q1_history.append(q1.copy())\n",
    "            q2_history.append(q2.copy())\n",
    "    \n",
    "    return {\n",
    "        'config': config, 'model': model, 'times': np.array(times),\n",
    "        'q1_history': q1_history, 'q2_history': q2_history,\n",
    "    }\n",
    "\n",
    "def evaluate_params(params_array, verbose=False):\n",
    "    \"\"\"Evaluate loss for given parameters\"\"\"\n",
    "    config = config_reference.copy()\n",
    "    config['name'] = 'Test'\n",
    "    config['subgrid_params'] = {}\n",
    "    \n",
    "    for i, name in enumerate(param_names):\n",
    "        # Apply bounds\n",
    "        bounds = PARAM_BOUNDS[name]\n",
    "        config['subgrid_params'][name] = float(np.clip(params_array[i], bounds[0], bounds[1]))\n",
    "    \n",
    "    result = run_simulation(config, sim_days=180, save_interval_hours=12, verbose=verbose)\n",
    "    if result is None:\n",
    "        return np.inf\n",
    "    \n",
    "    loss = compute_loss(result, highres_results, n_days_avg=30)\n",
    "    return loss\n",
    "\n",
    "# ============================================================================\n",
    "# STEP 1: REFERENCE\n",
    "# ============================================================================\n",
    "\n",
    "print(\"\\n\" + \"=\"*70)\n",
    "print(\"STEP 1: REFERENCE SIMULATION\")\n",
    "print(\"=\"*70)\n",
    "\n",
    "if os.path.exists('reference_results.pkl'):\n",
    "    print(\"Loading reference...\")\n",
    "    with open('reference_results.pkl', 'rb') as f:\n",
    "        ref_results = pickle.load(f)\n",
    "else:\n",
    "    print(\"Running reference...\")\n",
    "    ref_results = run_simulation(config_reference, sim_days=180, save_interval_hours=12, verbose=True)\n",
    "    if ref_results is None:\n",
    "        raise RuntimeError(\"Reference failed!\")\n",
    "    with open('reference_results.pkl', 'wb') as f:\n",
    "        pickle.dump(ref_results, f)\n",
    "\n",
    "ref_loss, ref_detailed = compute_loss(ref_results, highres_results, n_days_avg=30, return_fields=True)\n",
    "print(f\"\\nReference Loss: {ref_loss:.6f}\")\n",
    "print(f\"  Q_bt NRMSE:   {ref_detailed['loss_q_bt']:.6f}\")\n",
    "print(f\"  Psi_bt NRMSE: {ref_detailed['loss_psi_bt']:.6f}\")\n",
    "\n",
    "# ============================================================================\n",
    "# STEP 2: COMPUTE GRADIENTS\n",
    "# ============================================================================\n",
    "\n",
    "print(\"\\n\" + \"=\"*70)\n",
    "print(\"STEP 2: COMPUTE GRADIENTS (Central Differences)\")\n",
    "print(\"=\"*70)\n",
    "\n",
    "perturbation = 0.05\n",
    "default_params = np.array([config_reference['subgrid_params'][p] for p in param_names])\n",
    "gradients = np.zeros(n_params)\n",
    "\n",
    "for i, param_name in enumerate(param_names):\n",
    "    print(f\"\\n[{i+1}/{n_params}] {param_name}\")\n",
    "    \n",
    "    # Plus perturbation\n",
    "    params_plus = default_params.copy()\n",
    "    if abs(default_params[i]) < 1e-10:\n",
    "        params_plus[i] += perturbation * 1e-3\n",
    "    else:\n",
    "        params_plus[i] *= (1 + perturbation)\n",
    "    \n",
    "    loss_plus = evaluate_params(params_plus, verbose=True)\n",
    "    print(f\"  (+) Loss: {loss_plus:.6f}\")\n",
    "    \n",
    "    # Minus perturbation\n",
    "    params_minus = default_params.copy()\n",
    "    if abs(default_params[i]) < 1e-10:\n",
    "        params_minus[i] -= perturbation * 1e-3\n",
    "    else:\n",
    "        params_minus[i] *= (1 - perturbation)\n",
    "    \n",
    "    loss_minus = evaluate_params(params_minus, verbose=True)\n",
    "    print(f\"  (-) Loss: {loss_minus:.6f}\")\n",
    "    \n",
    "    # Gradient\n",
    "    if np.isfinite(loss_plus) and np.isfinite(loss_minus):\n",
    "        delta = params_plus[i] - params_minus[i]\n",
    "        gradients[i] = (loss_plus - loss_minus) / (2 * delta)\n",
    "        print(f\"  Gradient: {gradients[i]:+.6e}\")\n",
    "    else:\n",
    "        print(f\"  Gradient: FAILED\")\n",
    "\n",
    "# ============================================================================\n",
    "# STEP 3: LINE SEARCH OPTIMIZATION\n",
    "# ============================================================================\n",
    "\n",
    "print(\"\\n\" + \"=\"*70)\n",
    "print(\"STEP 3: LINE SEARCH OPTIMIZATION\")\n",
    "print(\"=\"*70)\n",
    "\n",
    "# Normalize gradient\n",
    "grad_norm = np.linalg.norm(gradients)\n",
    "if grad_norm > 0:\n",
    "    search_direction = -gradients / grad_norm\n",
    "else:\n",
    "    raise RuntimeError(\"All gradients are zero!\")\n",
    "\n",
    "print(f\"\\nSearch direction (normalized): {search_direction}\")\n",
    "\n",
    "# Try different step sizes\n",
    "step_sizes = [0.01, 0.02, 0.05, 0.1, 0.15, 0.2]\n",
    "best_loss = ref_loss\n",
    "best_params = default_params.copy()\n",
    "best_step = 0.0\n",
    "\n",
    "print(f\"\\nTrying {len(step_sizes)} step sizes along gradient direction...\")\n",
    "\n",
    "for step_size in step_sizes:\n",
    "    # Compute new parameters\n",
    "    new_params = default_params + step_size * search_direction * np.abs(default_params)\n",
    "    \n",
    "    # Apply bounds\n",
    "    for i, name in enumerate(param_names):\n",
    "        bounds = PARAM_BOUNDS[name]\n",
    "        new_params[i] = np.clip(new_params[i], bounds[0], bounds[1])\n",
    "    \n",
    "    print(f\"\\nStep size: {step_size:.3f}\")\n",
    "    print(\"  Parameters:\", {param_names[i]: new_params[i] for i in range(n_params)})\n",
    "    \n",
    "    loss = evaluate_params(new_params, verbose=True)\n",
    "    print(f\"  Loss: {loss:.6f}\")\n",
    "    \n",
    "    if np.isfinite(loss) and loss < best_loss:\n",
    "        best_loss = loss\n",
    "        best_params = new_params.copy()\n",
    "        best_step = step_size\n",
    "        print(f\"  ✓ NEW BEST!\")\n",
    "\n",
    "improvement = ((ref_loss - best_loss) / ref_loss) * 100\n",
    "\n",
    "print(\"\\n\" + \"=\"*70)\n",
    "print(\"LINE SEARCH RESULTS\")\n",
    "print(\"=\"*70)\n",
    "print(f\"Best step size: {best_step:.3f}\")\n",
    "print(f\"Reference Loss: {ref_loss:.6f}\")\n",
    "print(f\"Optimized Loss: {best_loss:.6f}\")\n",
    "print(f\"Improvement:    {improvement:+.2f}%\")\n",
    "\n",
    "# ============================================================================\n",
    "# STEP 4: VERIFY WITH FULL RUN\n",
    "# ============================================================================\n",
    "\n",
    "print(\"\\n\" + \"=\"*70)\n",
    "print(\"STEP 4: VERIFY OPTIMIZED PARAMETERS\")\n",
    "print(\"=\"*70)\n",
    "\n",
    "config_optimized = config_reference.copy()\n",
    "config_optimized['name'] = 'Optimized'\n",
    "config_optimized['subgrid_params'] = {param_names[i]: float(best_params[i]) for i in range(n_params)}\n",
    "\n",
    "print(\"\\nOptimized parameters:\")\n",
    "for name, val in config_optimized['subgrid_params'].items():\n",
    "    ref_val = config_reference['subgrid_params'][name]\n",
    "    change = ((val - ref_val) / abs(ref_val)) * 100 if abs(ref_val) > 1e-10 else 0\n",
    "    print(f\"  {name:20s}: {ref_val:.6e} -> {val:.6e} ({change:+6.2f}%)\")\n",
    "\n",
    "print(\"\\nRunning full verification simulation...\")\n",
    "opt_results = run_simulation(config_optimized, sim_days=180, save_interval_hours=12, verbose=True)\n",
    "\n",
    "if opt_results is None:\n",
    "    print(\"\\n✗ OPTIMIZED SIMULATION FAILED!\")\n",
    "    print(\"  Parameters may be at edge of stability.\")\n",
    "else:\n",
    "    opt_loss, opt_detailed = compute_loss(opt_results, highres_results, n_days_avg=30, return_fields=True)\n",
    "    \n",
    "    print(\"\\n\" + \"=\"*70)\n",
    "    print(\"FINAL VERIFICATION RESULTS\")\n",
    "    print(\"=\"*70)\n",
    "    print(f\"\\nReference Loss:  {ref_loss:.6f}\")\n",
    "    print(f\"Optimized Loss:  {opt_loss:.6f}\")\n",
    "    print(f\"Improvement:     {((ref_loss - opt_loss) / ref_loss * 100):+.2f}%\")\n",
    "    print(f\"\\nComponent Losses:\")\n",
    "    print(f\"  Q_bt NRMSE:\")\n",
    "    print(f\"    Reference: {ref_detailed['loss_q_bt']:.6f}\")\n",
    "    print(f\"    Optimized: {opt_detailed['loss_q_bt']:.6f}\")\n",
    "    print(f\"  Psi_bt NRMSE:\")\n",
    "    print(f\"    Reference: {ref_detailed['loss_psi_bt']:.6f}\")\n",
    "    print(f\"    Optimized: {opt_detailed['loss_psi_bt']:.6f}\")\n",
    "    \n",
    "    # Save\n",
    "    with open('optimized_results.pkl', 'wb') as f:\n",
    "        pickle.dump(opt_results, f)\n",
    "    \n",
    "    with open('optimized_config.txt', 'w') as f:\n",
    "        f.write(\"'subgrid_params': {\\n\")\n",
    "        for name, val in config_optimized['subgrid_params'].items():\n",
    "            f.write(f\"    '{name}': {val:.6e},\\n\")\n",
    "        f.write(\"}\\n\")\n",
    "    \n",
    "    # Visualize\n",
    "    fig, axes = plt.subplots(2, 3, figsize=(16, 10))\n",
    "    \n",
    "    vmin_q = min(ref_detailed['q_bt_hr_coarse'].min(), ref_detailed['q_bt_lr'].min(), opt_detailed['q_bt_lr'].min())\n",
    "    vmax_q = max(ref_detailed['q_bt_hr_coarse'].max(), ref_detailed['q_bt_lr'].max(), opt_detailed['q_bt_lr'].max())\n",
    "    \n",
    "    axes[0,0].imshow(ref_detailed['q_bt_hr_coarse'], cmap='RdBu_r', vmin=vmin_q, vmax=vmax_q)\n",
    "    axes[0,0].set_title('High-Res Q_bt')\n",
    "    axes[0,0].axis('off')\n",
    "    \n",
    "    axes[0,1].imshow(ref_detailed['q_bt_lr'], cmap='RdBu_r', vmin=vmin_q, vmax=vmax_q)\n",
    "    axes[0,1].set_title(f'Reference Q_bt\\nNRMSE: {ref_detailed[\"loss_q_bt\"]:.4f}')\n",
    "    axes[0,1].axis('off')\n",
    "    \n",
    "    axes[0,2].imshow(opt_detailed['q_bt_lr'], cmap='RdBu_r', vmin=vmin_q, vmax=vmax_q)\n",
    "    axes[0,2].set_title(f'Optimized Q_bt\\nNRMSE: {opt_detailed[\"loss_q_bt\"]:.4f}')\n",
    "    axes[0,2].axis('off')\n",
    "    \n",
    "    vmin_psi = min(ref_detailed['psi_bt_hr_coarse'].min(), ref_detailed['psi_bt_lr'].min(), opt_detailed['psi_bt_lr'].min())\n",
    "    vmax_psi = max(ref_detailed['psi_bt_hr_coarse'].max(), ref_detailed['psi_bt_lr'].max(), opt_detailed['psi_bt_lr'].max())\n",
    "    \n",
    "    axes[1,0].imshow(ref_detailed['psi_bt_hr_coarse'], cmap='RdBu_r', vmin=vmin_psi, vmax=vmax_psi)\n",
    "    axes[1,0].set_title('High-Res Psi_bt')\n",
    "    axes[1,0].axis('off')\n",
    "    \n",
    "    axes[1,1].imshow(ref_detailed['psi_bt_lr'], cmap='RdBu_r', vmin=vmin_psi, vmax=vmax_psi)\n",
    "    axes[1,1].set_title(f'Reference Psi_bt\\nNRMSE: {ref_detailed[\"loss_psi_bt\"]:.4f}')\n",
    "    axes[1,1].axis('off')\n",
    "    \n",
    "    axes[1,2].imshow(opt_detailed['psi_bt_lr'], cmap='RdBu_r', vmin=vmin_psi, vmax=vmax_psi)\n",
    "    axes[1,2].set_title(f'Optimized Psi_bt\\nNRMSE: {opt_detailed[\"loss_psi_bt\"]:.4f}')\n",
    "    axes[1,2].axis('off')\n",
    "    \n",
    "    plt.tight_layout()\n",
    "    plt.savefig('greens_optimization_comparison.png', dpi=300, bbox_inches='tight')\n",
    "    print(\"\\n✓ Saved: greens_optimization_comparison.png\")\n",
    "    print(\"✓ Saved: optimized_results.pkl\")\n",
    "    print(\"✓ Saved: optimized_config.txt\")\n",
    "\n",
    "print(\"\\n\" + \"=\"*70)\n",
    "print(\"OPTIMIZATION COMPLETE\")\n",
    "print(\"=\"*70)"
   ]
  },
  {
   "cell_type": "code",
   "execution_count": null,
   "id": "bde33c6a-e8a2-4b24-a258-240834954b7e",
   "metadata": {},
   "outputs": [],
   "source": []
  }
 ],
 "metadata": {
  "kernelspec": {
   "display_name": "Python (qg)",
   "language": "python",
   "name": "qg"
  },
  "language_info": {
   "codemirror_mode": {
    "name": "ipython",
    "version": 3
   },
   "file_extension": ".py",
   "mimetype": "text/x-python",
   "name": "python",
   "nbconvert_exporter": "python",
   "pygments_lexer": "ipython3",
   "version": "3.10.18"
  }
 },
 "nbformat": 4,
 "nbformat_minor": 5
}
